{
 "cells": [
  {
   "cell_type": "markdown",
   "metadata": {},
   "source": [
    "# Character-Level LSTM in PyTorch\n",
    "\n",
    "In this notebook, I'll construct a character-level LSTM with PyTorch. The network will train character by character on some text, then generate new text character by character. As an example, I will train on Anna Karenina. **This model will be able to generate new text based on the text from the book!**\n",
    "\n",
    "This network is based off of Andrej Karpathy's [post on RNNs](http://karpathy.github.io/2015/05/21/rnn-effectiveness/) and [implementation in Torch](https://github.com/karpathy/char-rnn). Below is the general architecture of the character-wise RNN.\n",
    "\n",
    "<img src=\"assets/charseq.jpeg\" width=\"500\">"
   ]
  },
  {
   "cell_type": "markdown",
   "metadata": {},
   "source": [
    "First let's load in our required resources for data loading and model creation."
   ]
  },
  {
   "cell_type": "code",
   "execution_count": 3,
   "metadata": {},
   "outputs": [],
   "source": [
    "import numpy as np\n",
    "import torch\n",
    "from torch import nn\n",
    "import torch.nn.functional as F"
   ]
  },
  {
   "cell_type": "markdown",
   "metadata": {},
   "source": [
    "## Load in Data\n",
    "\n",
    "Then, we'll load the Anna Karenina text file and convert it into integers for our network to use. "
   ]
  },
  {
   "cell_type": "code",
   "execution_count": 4,
   "metadata": {},
   "outputs": [],
   "source": [
    "# open text file and read in data as `text`\n",
    "with open('data/anna.txt', 'r') as f:\n",
    "    text = f.read()"
   ]
  },
  {
   "cell_type": "markdown",
   "metadata": {},
   "source": [
    "Let's check out the first 100 characters, make sure everything is peachy. According to the [American Book Review](http://americanbookreview.org/100bestlines.asp), this is the 6th best first line of a book ever."
   ]
  },
  {
   "cell_type": "code",
   "execution_count": 5,
   "metadata": {},
   "outputs": [
    {
     "data": {
      "text/plain": [
       "'Chapter 1\\n\\n\\nHappy families are all alike; every unhappy family is unhappy in its own\\nway.\\n\\nEverythin'"
      ]
     },
     "execution_count": 5,
     "metadata": {},
     "output_type": "execute_result"
    }
   ],
   "source": [
    "text[:100]"
   ]
  },
  {
   "cell_type": "code",
   "execution_count": 6,
   "metadata": {},
   "outputs": [
    {
     "data": {
      "text/plain": [
       "{0: 's', 1: 'd'}"
      ]
     },
     "execution_count": 6,
     "metadata": {},
     "output_type": "execute_result"
    }
   ],
   "source": [
    "dict(enumerate(('s','d')))"
   ]
  },
  {
   "cell_type": "markdown",
   "metadata": {},
   "source": [
    "### Tokenization\n",
    "\n",
    "In the cells, below, I'm creating a couple **dictionaries** to convert the characters to and from integers. Encoding the characters as integers makes it easier to use as input in the network."
   ]
  },
  {
   "cell_type": "code",
   "execution_count": 7,
   "metadata": {},
   "outputs": [],
   "source": [
    "# encode the text and map each character to an integer and vice versa\n",
    "\n",
    "# we create two dictionaries:\n",
    "# 1. int2char, which maps integers to characters\n",
    "# 2. char2int, which maps characters to unique integers\n",
    "chars = tuple(set(text))\n",
    "int2char = dict(enumerate(chars))\n",
    "char2int = {ch: ii for ii, ch in int2char.items()}\n",
    "\n",
    "# encode the text\n",
    "encoded = np.array([char2int[ch] for ch in text])"
   ]
  },
  {
   "cell_type": "markdown",
   "metadata": {},
   "source": [
    "And we can see those same characters from above, encoded as integers."
   ]
  },
  {
   "cell_type": "code",
   "execution_count": 8,
   "metadata": {},
   "outputs": [
    {
     "data": {
      "text/plain": [
       "array([81, 29,  2, 57, 15, 25, 56, 35, 59, 27, 27, 27, 39,  2, 57, 57, 53,\n",
       "       35, 66,  2, 44, 69,  4, 69, 25, 52, 35,  2, 56, 25, 35,  2,  4,  4,\n",
       "       35,  2,  4, 69, 38, 25, 16, 35, 25, 63, 25, 56, 53, 35, 78, 45, 29,\n",
       "        2, 57, 57, 53, 35, 66,  2, 44, 69,  4, 53, 35, 69, 52, 35, 78, 45,\n",
       "       29,  2, 57, 57, 53, 35, 69, 45, 35, 69, 15, 52, 35, 73, 28, 45, 27,\n",
       "       28,  2, 53, 24, 27, 27, 20, 63, 25, 56, 53, 15, 29, 69, 45])"
      ]
     },
     "execution_count": 8,
     "metadata": {},
     "output_type": "execute_result"
    }
   ],
   "source": [
    "encoded[:100]"
   ]
  },
  {
   "cell_type": "markdown",
   "metadata": {},
   "source": [
    "## Pre-processing the data\n",
    "\n",
    "As you can see in our char-RNN image above, our LSTM expects an input that is **one-hot encoded** meaning that each character is converted into an integer (via our created dictionary) and *then* converted into a column vector where only it's corresponding integer index will have the value of 1 and the rest of the vector will be filled with 0's. Since we're one-hot encoding the data, let's make a function to do that!\n"
   ]
  },
  {
   "cell_type": "code",
   "execution_count": 9,
   "metadata": {},
   "outputs": [],
   "source": [
    "def one_hot_encode(arr, n_labels):\n",
    "    \n",
    "    # Initialize the the encoded array\n",
    "    one_hot = np.zeros((arr.size, n_labels), dtype=np.float32)\n",
    "    \n",
    "    # Fill the appropriate elements with ones\n",
    "    one_hot[np.arange(one_hot.shape[0]), arr.flatten()] = 1.\n",
    "    \n",
    "    # Finally reshape it to get back to the original array\n",
    "    one_hot = one_hot.reshape((*arr.shape, n_labels))\n",
    "    \n",
    "    return one_hot"
   ]
  },
  {
   "cell_type": "code",
   "execution_count": 10,
   "metadata": {},
   "outputs": [
    {
     "name": "stdout",
     "output_type": "stream",
     "text": [
      "[[[0. 0. 0. 1. 0. 0. 0. 0.]\n",
      "  [0. 0. 0. 0. 0. 1. 0. 0.]\n",
      "  [0. 1. 0. 0. 0. 0. 0. 0.]]]\n"
     ]
    }
   ],
   "source": [
    "# check that the function works as expected\n",
    "test_seq = np.array([[3, 5, 1]])\n",
    "one_hot = one_hot_encode(test_seq, 8)\n",
    "\n",
    "print(one_hot)"
   ]
  },
  {
   "cell_type": "code",
   "execution_count": null,
   "metadata": {},
   "outputs": [],
   "source": []
  },
  {
   "cell_type": "markdown",
   "metadata": {},
   "source": [
    "## Making training mini-batches\n",
    "\n",
    "\n",
    "To train on this data, we also want to create mini-batches for training. Remember that we want our batches to be multiple sequences of some desired number of sequence steps. Considering a simple example, our batches would look like this:\n",
    "\n",
    "<img src=\"assets/sequence_batching@1x.png\" width=500px>\n",
    "\n",
    "\n",
    "<br>\n",
    "\n",
    "In this example, we'll take the encoded characters (passed in as the `arr` parameter) and split them into multiple sequences, given by `batch_size`. Each of our sequences will be `seq_length` long.\n",
    "\n",
    "### Creating Batches\n",
    "\n",
    "**1. The first thing we need to do is discard some of the text so we only have completely full mini-batches. **\n",
    "\n",
    "Each batch contains $N \\times M$ characters, where $N$ is the batch size (the number of sequences in a batch) and $M$ is the seq_length or number of time steps in a sequence. Then, to get the total number of batches, $K$, that we can make from the array `arr`, you divide the length of `arr` by the number of characters per batch. Once you know the number of batches, you can get the total number of characters to keep from `arr`, $N * M * K$.\n",
    "\n",
    "**2. After that, we need to split `arr` into $N$ batches. ** \n",
    "\n",
    "You can do this using `arr.reshape(size)` where `size` is a tuple containing the dimensions sizes of the reshaped array. We know we want $N$ sequences in a batch, so let's make that the size of the first dimension. For the second dimension, you can use `-1` as a placeholder in the size, it'll fill up the array with the appropriate data for you. After this, you should have an array that is $N \\times (M * K)$.\n",
    "\n",
    "**3. Now that we have this array, we can iterate through it to get our mini-batches. **\n",
    "\n",
    "The idea is each batch is a $N \\times M$ window on the $N \\times (M * K)$ array. For each subsequent batch, the window moves over by `seq_length`. We also want to create both the input and target arrays. Remember that the targets are just the inputs shifted over by one character. The way I like to do this window is use `range` to take steps of size `n_steps` from $0$ to `arr.shape[1]`, the total number of tokens in each sequence. That way, the integers you get from `range` always point to the start of a batch, and each window is `seq_length` wide.\n",
    "\n",
    "> **TODO:** Write the code for creating batches in the function below. The exercises in this notebook _will not be easy_. I've provided a notebook with solutions alongside this notebook. If you get stuck, checkout the solutions. The most important thing is that you don't copy and paste the code into here, **type out the solution code yourself.**"
   ]
  },
  {
   "cell_type": "code",
   "execution_count": 11,
   "metadata": {},
   "outputs": [],
   "source": [
    "def get_batches(arr, batch_size, seq_length):\n",
    "    '''Create a generator that returns batches of size\n",
    "       batch_size x seq_length from arr.\n",
    "       \n",
    "       Arguments\n",
    "       ---------\n",
    "       arr: Array you want to make batches from\n",
    "       batch_size: Batch size, the number of sequences per batch\n",
    "       seq_length: Number of encoded chars in a sequence\n",
    "    '''\n",
    "    \n",
    "    ## TODO: Get the number of batches we can make\n",
    "    chars_per_batch = batch_size * seq_length\n",
    "    n_batches = len(arr) // chars_per_batch\n",
    "    \n",
    "    ## TODO: Keep only enough characters to make full batches\n",
    "    arr = arr[:(chars_per_batch * n_batches)]\n",
    "    \n",
    "    ## TODO: Reshape into batch_size rows\n",
    "    arr = arr.reshape((batch_size, -1))\n",
    "    \n",
    "    ## TODO: Iterate over the batches using a window of size seq_length\n",
    "    for n in range(0, arr.shape[1], seq_length):\n",
    "        # The features\n",
    "        x = arr[:, n:n+seq_length]\n",
    "        # The targets, shifted by one\n",
    "        y = np.zeros_like(x)\n",
    "        try:\n",
    "            y[:, :-1], y[:, -1] = x[:, 1:], arr[:, n+seq_length]\n",
    "        except IndexError:\n",
    "            y[:, :-1], y[:, -1] = x[:, 1:], arr[:, 0]\n",
    "        yield x, y"
   ]
  },
  {
   "cell_type": "markdown",
   "metadata": {},
   "source": [
    "### Test Your Implementation\n",
    "\n",
    "Now I'll make some data sets and we can check out what's going on as we batch data. Here, as an example, I'm going to use a batch size of 8 and 50 sequence steps."
   ]
  },
  {
   "cell_type": "code",
   "execution_count": 12,
   "metadata": {},
   "outputs": [],
   "source": [
    "batches = get_batches(encoded, 8, 50)\n",
    "x, y = next(batches)"
   ]
  },
  {
   "cell_type": "code",
   "execution_count": 13,
   "metadata": {},
   "outputs": [
    {
     "name": "stdout",
     "output_type": "stream",
     "text": [
      "x\n",
      " [[81 29  2 57 15 25 56 35 59 27]\n",
      " [52 73 45 35 15 29  2 15 35  2]\n",
      " [25 45 67 35 73 56 35  2 35 66]\n",
      " [52 35 15 29 25 35 68 29 69 25]\n",
      " [35 52  2 28 35 29 25 56 35 15]\n",
      " [68 78 52 52 69 73 45 35  2 45]\n",
      " [35 54 45 45  2 35 29  2 67 35]\n",
      " [37  6  4 73 45 52 38 53 24 35]]\n",
      "\n",
      "y\n",
      " [[29  2 57 15 25 56 35 59 27 27]\n",
      " [73 45 35 15 29  2 15 35  2 15]\n",
      " [45 67 35 73 56 35  2 35 66 73]\n",
      " [35 15 29 25 35 68 29 69 25 66]\n",
      " [52  2 28 35 29 25 56 35 15 25]\n",
      " [78 52 52 69 73 45 35  2 45 67]\n",
      " [54 45 45  2 35 29  2 67 35 52]\n",
      " [ 6  4 73 45 52 38 53 24 35 17]]\n"
     ]
    }
   ],
   "source": [
    "# printing out the first 10 items in a sequence\n",
    "print('x\\n', x[:10, :10])\n",
    "print('\\ny\\n', y[:10, :10])"
   ]
  },
  {
   "cell_type": "code",
   "execution_count": 14,
   "metadata": {},
   "outputs": [
    {
     "name": "stdout",
     "output_type": "stream",
     "text": [
      "83\n"
     ]
    }
   ],
   "source": [
    "print(len(chars))"
   ]
  },
  {
   "cell_type": "markdown",
   "metadata": {},
   "source": [
    "If you implemented `get_batches` correctly, the above output should look something like \n",
    "```\n",
    "x\n",
    " [[25  8 60 11 45 27 28 73  1  2]\n",
    " [17  7 20 73 45  8 60 45 73 60]\n",
    " [27 20 80 73  7 28 73 60 73 65]\n",
    " [17 73 45  8 27 73 66  8 46 27]\n",
    " [73 17 60 12 73  8 27 28 73 45]\n",
    " [66 64 17 17 46  7 20 73 60 20]\n",
    " [73 76 20 20 60 73  8 60 80 73]\n",
    " [47 35 43  7 20 17 24 50 37 73]]\n",
    "\n",
    "y\n",
    " [[ 8 60 11 45 27 28 73  1  2  2]\n",
    " [ 7 20 73 45  8 60 45 73 60 45]\n",
    " [20 80 73  7 28 73 60 73 65  7]\n",
    " [73 45  8 27 73 66  8 46 27 65]\n",
    " [17 60 12 73  8 27 28 73 45 27]\n",
    " [64 17 17 46  7 20 73 60 20 80]\n",
    " [76 20 20 60 73  8 60 80 73 17]\n",
    " [35 43  7 20 17 24 50 37 73 36]]\n",
    " ```\n",
    " although the exact numbers may be different. Check to make sure the data is shifted over one step for `y`."
   ]
  },
  {
   "cell_type": "markdown",
   "metadata": {},
   "source": [
    "---\n",
    "## Defining the network with PyTorch\n",
    "\n",
    "Below is where you'll define the network.\n",
    "\n",
    "<img src=\"assets/charRNN.png\" width=500px>\n",
    "\n",
    "Next, you'll use PyTorch to define the architecture of the network. We start by defining the layers and operations we want. Then, define a method for the forward pass. You've also been given a method for predicting characters."
   ]
  },
  {
   "cell_type": "markdown",
   "metadata": {},
   "source": [
    "### Model Structure\n",
    "\n",
    "In `__init__` the suggested structure is as follows:\n",
    "* Create and store the necessary dictionaries (this has been done for you)\n",
    "* Define an LSTM layer that takes as params: an input size (the number of characters), a hidden layer size `n_hidden`, a number of layers `n_layers`, a dropout probability `drop_prob`, and a batch_first boolean (True, since we are batching)\n",
    "* Define a dropout layer with `drop_prob`\n",
    "* Define a fully-connected layer with params: input size `n_hidden` and output size (the number of characters)\n",
    "* Finally, initialize the weights (again, this has been given)\n",
    "\n",
    "Note that some parameters have been named and given in the `__init__` function, and we use them and store them by doing something like `self.drop_prob = drop_prob`."
   ]
  },
  {
   "cell_type": "markdown",
   "metadata": {},
   "source": [
    "---\n",
    "### LSTM Inputs/Outputs\n",
    "\n",
    "You can create a basic [LSTM layer](https://pytorch.org/docs/stable/nn.html#lstm) as follows\n",
    "\n",
    "```python\n",
    "self.lstm = nn.LSTM(input_size, n_hidden, n_layers, \n",
    "                            dropout=drop_prob, batch_first=True)\n",
    "```\n",
    "\n",
    "where `input_size` is the number of characters this cell expects to see as sequential input, and `n_hidden` is the number of units in the hidden layers in the cell. And we can add dropout by adding a dropout parameter with a specified probability; this will automatically add dropout to the inputs or outputs. Finally, in the `forward` function, we can stack up the LSTM cells into layers using `.view`. With this, you pass in a list of cells and it will send the output of one cell into the next cell.\n",
    "\n",
    "We also need to create an initial hidden state of all zeros. This is done like so\n",
    "\n",
    "```python\n",
    "self.init_hidden()\n",
    "```"
   ]
  },
  {
   "cell_type": "code",
   "execution_count": 16,
   "metadata": {},
   "outputs": [
    {
     "name": "stdout",
     "output_type": "stream",
     "text": [
      "Training on GPU!\n"
     ]
    }
   ],
   "source": [
    "# check if GPU is available\n",
    "train_on_gpu = torch.cuda.is_available()\n",
    "if(train_on_gpu):\n",
    "    print('Training on GPU!')\n",
    "else: \n",
    "    print('No GPU available, training on CPU; consider making n_epochs very small.')"
   ]
  },
  {
   "cell_type": "code",
   "execution_count": 2,
   "metadata": {},
   "outputs": [],
   "source": [
    "from torch import nn\n",
    "\n",
    "class CharRNN(nn.Module):\n",
    "    \n",
    "    def __init__(self, tokens, n_hidden=256, n_layers=2,\n",
    "                               drop_prob=0.5, lr=0.001):\n",
    "        super().__init__()\n",
    "        self.drop_prob = drop_prob\n",
    "        self.n_layers = n_layers\n",
    "        self.n_hidden = n_hidden\n",
    "        self.lr = lr\n",
    "        \n",
    "        # creating character dictionaries\n",
    "        self.chars = tokens\n",
    "        self.int2char = dict(enumerate(self.chars))\n",
    "        self.char2int = {ch: ii for ii, ch in self.int2char.items()}\n",
    "        \n",
    "        ## TODO: define the layers of the model\n",
    "        self.lstm = nn.LSTM(len(tokens), n_hidden, n_layers, dropout=drop_prob, batch_first=True)\n",
    "        self.dropout = nn.Dropout(drop_prob)\n",
    "        self.fc = nn.Linear(n_hidden, len(tokens))\n",
    "      \n",
    "    \n",
    "    def forward(self, x, hidden):\n",
    "        ''' Forward pass through the network. \n",
    "            These inputs are x, and the hidden/cell state `hidden`. '''\n",
    "                \n",
    "        ## TODO: Get the outputs and the new hidden state from the lstm\n",
    "        \n",
    "        out, hidden = self.lstm(x, hidden)\n",
    "        out = self.dropout(out)\n",
    "        \n",
    "        # Stack up LSTM outputs using view\n",
    "        # you may need to use contiguous to reshape the output\n",
    "        out = out.contiguous().view(-1, self.n_hidden)\n",
    "        out = self.fc(out)\n",
    "\n",
    "        \n",
    "        # return the final output and the hidden state\n",
    "        return out, hidden\n",
    "    \n",
    "    \n",
    "    def init_hidden(self, batch_size):\n",
    "        ''' Initializes hidden state '''\n",
    "        # Create two new tensors with sizes n_layers x batch_size x n_hidden,\n",
    "        # initialized to zero, for hidden state and cell state of LSTM\n",
    "        weight = next(self.parameters()).data\n",
    "        \n",
    "        if (train_on_gpu):\n",
    "            hidden = (weight.new(self.n_layers, batch_size, self.n_hidden).zero_().cuda(),\n",
    "                  weight.new(self.n_layers, batch_size, self.n_hidden).zero_().cuda())\n",
    "        else:\n",
    "            hidden = (weight.new(self.n_layers, batch_size, self.n_hidden).zero_(),\n",
    "                      weight.new(self.n_layers, batch_size, self.n_hidden).zero_())\n",
    "        \n",
    "        return hidden\n",
    "        "
   ]
  },
  {
   "cell_type": "markdown",
   "metadata": {},
   "source": [
    "## Time to train\n",
    "\n",
    "The train function gives us the ability to set the number of epochs, the learning rate, and other parameters.\n",
    "\n",
    "Below we're using an Adam optimizer and cross entropy loss since we are looking at character class scores as output. We calculate the loss and perform backpropagation, as usual!\n",
    "\n",
    "A couple of details about training: \n",
    ">* Within the batch loop, we detach the hidden state from its history; this time setting it equal to a new *tuple* variable because an LSTM has a hidden state that is a tuple of the hidden and cell states.\n",
    "* We use [`clip_grad_norm_`](https://pytorch.org/docs/stable/_modules/torch/nn/utils/clip_grad.html) to help prevent exploding gradients."
   ]
  },
  {
   "cell_type": "code",
   "execution_count": 20,
   "metadata": {},
   "outputs": [],
   "source": [
    "def train(net, data, epochs=10, batch_size=10, seq_length=50, lr=0.001, clip=5, val_frac=0.1, print_every=10):\n",
    "    ''' Training a network \n",
    "    \n",
    "        Arguments\n",
    "        ---------\n",
    "        \n",
    "        net: CharRNN network\n",
    "        data: text data to train the network\n",
    "        epochs: Number of epochs to train\n",
    "        batch_size: Number of mini-sequences per mini-batch, aka batch size\n",
    "        seq_length: Number of character steps per mini-batch\n",
    "        lr: learning rate\n",
    "        clip: gradient clipping\n",
    "        val_frac: Fraction of data to hold out for validation\n",
    "        print_every: Number of steps for printing training and validation loss\n",
    "    \n",
    "    '''\n",
    "    net.train()\n",
    "    \n",
    "    opt = torch.optim.Adam(net.parameters(), lr=lr)\n",
    "    criterion = nn.CrossEntropyLoss()\n",
    "    \n",
    "    # create training and validation data\n",
    "    val_idx = int(len(data)*(1-val_frac))\n",
    "    data, val_data = data[:val_idx], data[val_idx:]\n",
    "    \n",
    "    if(train_on_gpu):\n",
    "        net.cuda()\n",
    "    \n",
    "    counter = 0\n",
    "    n_chars = len(net.chars)\n",
    "    for e in range(epochs):\n",
    "        # initialize hidden state\n",
    "        h = net.init_hidden(batch_size)\n",
    "        \n",
    "        for x, y in get_batches(data, batch_size, seq_length):\n",
    "            counter += 1\n",
    "            \n",
    "            # One-hot encode our data and make them Torch tensors\n",
    "            x = one_hot_encode(x, n_chars)\n",
    "            inputs, targets = torch.from_numpy(x), torch.from_numpy(y)\n",
    "            \n",
    "            if(train_on_gpu):\n",
    "                inputs, targets = inputs.cuda(), targets.cuda()\n",
    "\n",
    "            # Creating new variables for the hidden state, otherwise\n",
    "            # we'd backprop through the entire training history\n",
    "            h = tuple([each.data for each in h])\n",
    "\n",
    "            # zero accumulated gradients\n",
    "            net.zero_grad()\n",
    "            \n",
    "            # get the output from the model\n",
    "            output, h = net(inputs, h)\n",
    "            \n",
    "            # calculate the loss and perform backprop\n",
    "            loss = criterion(output, targets.view(batch_size*seq_length).long())\n",
    "            loss.backward()\n",
    "            # `clip_grad_norm` helps prevent the exploding gradient problem in RNNs / LSTMs.\n",
    "            nn.utils.clip_grad_norm_(net.parameters(), clip)\n",
    "            opt.step()\n",
    "            \n",
    "            # loss stats\n",
    "            if counter % print_every == 0:\n",
    "                # Get validation loss\n",
    "                val_h = net.init_hidden(batch_size)\n",
    "                val_losses = []\n",
    "                net.eval()\n",
    "                for x, y in get_batches(val_data, batch_size, seq_length):\n",
    "                    # One-hot encode our data and make them Torch tensors\n",
    "                    x = one_hot_encode(x, n_chars)\n",
    "                    x, y = torch.from_numpy(x), torch.from_numpy(y)\n",
    "                    \n",
    "                    # Creating new variables for the hidden state, otherwise\n",
    "                    # we'd backprop through the entire training history\n",
    "                    val_h = tuple([each.data for each in val_h])\n",
    "                    \n",
    "                    inputs, targets = x, y\n",
    "                    if(train_on_gpu):\n",
    "                        inputs, targets = inputs.cuda(), targets.cuda()\n",
    "\n",
    "                    output, val_h = net(inputs, val_h)\n",
    "                    val_loss = criterion(output, targets.view(batch_size*seq_length).long())\n",
    "                \n",
    "                    val_losses.append(val_loss.item())\n",
    "                \n",
    "                net.train() # reset to train mode after iterationg through validation data\n",
    "                \n",
    "                print(\"Epoch: {}/{}...\".format(e+1, epochs),\n",
    "                      \"Step: {}...\".format(counter),\n",
    "                      \"Loss: {:.4f}...\".format(loss.item()),\n",
    "                      \"Val Loss: {:.4f}\".format(np.mean(val_losses)))"
   ]
  },
  {
   "cell_type": "markdown",
   "metadata": {},
   "source": [
    "## Instantiating the model\n",
    "\n",
    "Now we can actually train the network. First we'll create the network itself, with some given hyperparameters. Then, define the mini-batches sizes, and start training!"
   ]
  },
  {
   "cell_type": "code",
   "execution_count": 21,
   "metadata": {},
   "outputs": [
    {
     "name": "stdout",
     "output_type": "stream",
     "text": [
      "CharRNN(\n",
      "  (lstm): LSTM(83, 512, num_layers=2, batch_first=True, dropout=0.5)\n",
      "  (dropout): Dropout(p=0.5, inplace=False)\n",
      "  (fc): Linear(in_features=512, out_features=83, bias=True)\n",
      ")\n"
     ]
    }
   ],
   "source": [
    "## TODO: set your model hyperparameters\n",
    "# define and print the net\n",
    "n_hidden= 512\n",
    "n_layers= 2\n",
    "\n",
    "net = CharRNN(chars, n_hidden, n_layers)\n",
    "print(net)"
   ]
  },
  {
   "cell_type": "markdown",
   "metadata": {},
   "source": [
    "### Set your training hyperparameters!"
   ]
  },
  {
   "cell_type": "code",
   "execution_count": 22,
   "metadata": {
    "scrolled": true
   },
   "outputs": [
    {
     "name": "stdout",
     "output_type": "stream",
     "text": [
      "Epoch: 1/20... Step: 10... Loss: 3.2811... Val Loss: 3.2347\n",
      "Epoch: 1/20... Step: 20... Loss: 3.1525... Val Loss: 3.1422\n",
      "Epoch: 1/20... Step: 30... Loss: 3.1454... Val Loss: 3.1253\n",
      "Epoch: 1/20... Step: 40... Loss: 3.1162... Val Loss: 3.1188\n",
      "Epoch: 1/20... Step: 50... Loss: 3.1454... Val Loss: 3.1175\n",
      "Epoch: 1/20... Step: 60... Loss: 3.1206... Val Loss: 3.1153\n",
      "Epoch: 1/20... Step: 70... Loss: 3.1071... Val Loss: 3.1136\n",
      "Epoch: 1/20... Step: 80... Loss: 3.1237... Val Loss: 3.1094\n",
      "Epoch: 1/20... Step: 90... Loss: 3.1168... Val Loss: 3.0988\n",
      "Epoch: 1/20... Step: 100... Loss: 3.0796... Val Loss: 3.0688\n",
      "Epoch: 1/20... Step: 110... Loss: 3.0335... Val Loss: 3.0074\n",
      "Epoch: 1/20... Step: 120... Loss: 2.9091... Val Loss: 2.9194\n",
      "Epoch: 1/20... Step: 130... Loss: 2.8352... Val Loss: 2.8061\n",
      "Epoch: 2/20... Step: 140... Loss: 2.7764... Val Loss: 2.7035\n",
      "Epoch: 2/20... Step: 150... Loss: 2.6506... Val Loss: 2.6071\n",
      "Epoch: 2/20... Step: 160... Loss: 2.5663... Val Loss: 2.5273\n",
      "Epoch: 2/20... Step: 170... Loss: 2.4900... Val Loss: 2.4774\n",
      "Epoch: 2/20... Step: 180... Loss: 2.4603... Val Loss: 2.4348\n",
      "Epoch: 2/20... Step: 190... Loss: 2.4278... Val Loss: 2.4134\n",
      "Epoch: 2/20... Step: 200... Loss: 2.4079... Val Loss: 2.3710\n",
      "Epoch: 2/20... Step: 210... Loss: 2.3636... Val Loss: 2.3422\n",
      "Epoch: 2/20... Step: 220... Loss: 2.3321... Val Loss: 2.3080\n",
      "Epoch: 2/20... Step: 230... Loss: 2.3156... Val Loss: 2.2815\n",
      "Epoch: 2/20... Step: 240... Loss: 2.2927... Val Loss: 2.2550\n",
      "Epoch: 2/20... Step: 250... Loss: 2.2261... Val Loss: 2.2252\n",
      "Epoch: 2/20... Step: 260... Loss: 2.1984... Val Loss: 2.2010\n",
      "Epoch: 2/20... Step: 270... Loss: 2.2108... Val Loss: 2.1733\n",
      "Epoch: 3/20... Step: 280... Loss: 2.1912... Val Loss: 2.1524\n",
      "Epoch: 3/20... Step: 290... Loss: 2.1558... Val Loss: 2.1267\n",
      "Epoch: 3/20... Step: 300... Loss: 2.1361... Val Loss: 2.1032\n",
      "Epoch: 3/20... Step: 310... Loss: 2.1034... Val Loss: 2.0811\n",
      "Epoch: 3/20... Step: 320... Loss: 2.0652... Val Loss: 2.0625\n",
      "Epoch: 3/20... Step: 330... Loss: 2.0399... Val Loss: 2.0466\n",
      "Epoch: 3/20... Step: 340... Loss: 2.0637... Val Loss: 2.0254\n",
      "Epoch: 3/20... Step: 350... Loss: 2.0474... Val Loss: 2.0091\n",
      "Epoch: 3/20... Step: 360... Loss: 1.9777... Val Loss: 1.9921\n",
      "Epoch: 3/20... Step: 370... Loss: 2.0065... Val Loss: 1.9743\n",
      "Epoch: 3/20... Step: 380... Loss: 1.9825... Val Loss: 1.9577\n",
      "Epoch: 3/20... Step: 390... Loss: 1.9501... Val Loss: 1.9432\n",
      "Epoch: 3/20... Step: 400... Loss: 1.9282... Val Loss: 1.9244\n",
      "Epoch: 3/20... Step: 410... Loss: 1.9427... Val Loss: 1.9099\n",
      "Epoch: 4/20... Step: 420... Loss: 1.9296... Val Loss: 1.8972\n",
      "Epoch: 4/20... Step: 430... Loss: 1.9157... Val Loss: 1.8844\n",
      "Epoch: 4/20... Step: 440... Loss: 1.9050... Val Loss: 1.8720\n",
      "Epoch: 4/20... Step: 450... Loss: 1.8440... Val Loss: 1.8566\n",
      "Epoch: 4/20... Step: 460... Loss: 1.8263... Val Loss: 1.8463\n",
      "Epoch: 4/20... Step: 470... Loss: 1.8661... Val Loss: 1.8334\n",
      "Epoch: 4/20... Step: 480... Loss: 1.8459... Val Loss: 1.8243\n",
      "Epoch: 4/20... Step: 490... Loss: 1.8531... Val Loss: 1.8091\n",
      "Epoch: 4/20... Step: 500... Loss: 1.8352... Val Loss: 1.7985\n",
      "Epoch: 4/20... Step: 510... Loss: 1.8173... Val Loss: 1.7873\n",
      "Epoch: 4/20... Step: 520... Loss: 1.8227... Val Loss: 1.7743\n",
      "Epoch: 4/20... Step: 530... Loss: 1.7892... Val Loss: 1.7678\n",
      "Epoch: 4/20... Step: 540... Loss: 1.7478... Val Loss: 1.7610\n",
      "Epoch: 4/20... Step: 550... Loss: 1.7983... Val Loss: 1.7447\n",
      "Epoch: 5/20... Step: 560... Loss: 1.7581... Val Loss: 1.7393\n",
      "Epoch: 5/20... Step: 570... Loss: 1.7502... Val Loss: 1.7295\n",
      "Epoch: 5/20... Step: 580... Loss: 1.7258... Val Loss: 1.7199\n",
      "Epoch: 5/20... Step: 590... Loss: 1.7279... Val Loss: 1.7137\n",
      "Epoch: 5/20... Step: 600... Loss: 1.7138... Val Loss: 1.7072\n",
      "Epoch: 5/20... Step: 610... Loss: 1.6981... Val Loss: 1.6963\n",
      "Epoch: 5/20... Step: 620... Loss: 1.7094... Val Loss: 1.6924\n",
      "Epoch: 5/20... Step: 630... Loss: 1.7195... Val Loss: 1.6830\n",
      "Epoch: 5/20... Step: 640... Loss: 1.6849... Val Loss: 1.6758\n",
      "Epoch: 5/20... Step: 650... Loss: 1.6781... Val Loss: 1.6715\n",
      "Epoch: 5/20... Step: 660... Loss: 1.6520... Val Loss: 1.6653\n",
      "Epoch: 5/20... Step: 670... Loss: 1.6839... Val Loss: 1.6573\n",
      "Epoch: 5/20... Step: 680... Loss: 1.6690... Val Loss: 1.6481\n",
      "Epoch: 5/20... Step: 690... Loss: 1.6517... Val Loss: 1.6434\n",
      "Epoch: 6/20... Step: 700... Loss: 1.6534... Val Loss: 1.6378\n",
      "Epoch: 6/20... Step: 710... Loss: 1.6381... Val Loss: 1.6338\n",
      "Epoch: 6/20... Step: 720... Loss: 1.6288... Val Loss: 1.6242\n",
      "Epoch: 6/20... Step: 730... Loss: 1.6463... Val Loss: 1.6204\n",
      "Epoch: 6/20... Step: 740... Loss: 1.6105... Val Loss: 1.6130\n",
      "Epoch: 6/20... Step: 750... Loss: 1.6023... Val Loss: 1.6073\n",
      "Epoch: 6/20... Step: 760... Loss: 1.6332... Val Loss: 1.6065\n",
      "Epoch: 6/20... Step: 770... Loss: 1.6096... Val Loss: 1.6049\n",
      "Epoch: 6/20... Step: 780... Loss: 1.5970... Val Loss: 1.5941\n",
      "Epoch: 6/20... Step: 790... Loss: 1.5853... Val Loss: 1.5875\n",
      "Epoch: 6/20... Step: 800... Loss: 1.5931... Val Loss: 1.5842\n",
      "Epoch: 6/20... Step: 810... Loss: 1.5845... Val Loss: 1.5833\n",
      "Epoch: 6/20... Step: 820... Loss: 1.5481... Val Loss: 1.5764\n",
      "Epoch: 6/20... Step: 830... Loss: 1.6019... Val Loss: 1.5742\n",
      "Epoch: 7/20... Step: 840... Loss: 1.5461... Val Loss: 1.5657\n",
      "Epoch: 7/20... Step: 850... Loss: 1.5661... Val Loss: 1.5658\n",
      "Epoch: 7/20... Step: 860... Loss: 1.5454... Val Loss: 1.5581\n",
      "Epoch: 7/20... Step: 870... Loss: 1.5556... Val Loss: 1.5529\n",
      "Epoch: 7/20... Step: 880... Loss: 1.5550... Val Loss: 1.5472\n",
      "Epoch: 7/20... Step: 890... Loss: 1.5511... Val Loss: 1.5458\n",
      "Epoch: 7/20... Step: 900... Loss: 1.5386... Val Loss: 1.5424\n",
      "Epoch: 7/20... Step: 910... Loss: 1.5119... Val Loss: 1.5405\n",
      "Epoch: 7/20... Step: 920... Loss: 1.5276... Val Loss: 1.5383\n",
      "Epoch: 7/20... Step: 930... Loss: 1.5142... Val Loss: 1.5317\n",
      "Epoch: 7/20... Step: 940... Loss: 1.5203... Val Loss: 1.5284\n",
      "Epoch: 7/20... Step: 950... Loss: 1.5318... Val Loss: 1.5226\n",
      "Epoch: 7/20... Step: 960... Loss: 1.5298... Val Loss: 1.5161\n",
      "Epoch: 7/20... Step: 970... Loss: 1.5371... Val Loss: 1.5151\n",
      "Epoch: 8/20... Step: 980... Loss: 1.5077... Val Loss: 1.5167\n",
      "Epoch: 8/20... Step: 990... Loss: 1.5157... Val Loss: 1.5073\n",
      "Epoch: 8/20... Step: 1000... Loss: 1.5015... Val Loss: 1.5028\n",
      "Epoch: 8/20... Step: 1010... Loss: 1.5436... Val Loss: 1.4984\n",
      "Epoch: 8/20... Step: 1020... Loss: 1.5028... Val Loss: 1.4960\n",
      "Epoch: 8/20... Step: 1030... Loss: 1.4780... Val Loss: 1.4924\n",
      "Epoch: 8/20... Step: 1040... Loss: 1.4969... Val Loss: 1.4910\n",
      "Epoch: 8/20... Step: 1050... Loss: 1.4812... Val Loss: 1.4911\n",
      "Epoch: 8/20... Step: 1060... Loss: 1.4815... Val Loss: 1.4877\n",
      "Epoch: 8/20... Step: 1070... Loss: 1.4943... Val Loss: 1.4847\n",
      "Epoch: 8/20... Step: 1080... Loss: 1.4747... Val Loss: 1.4791\n",
      "Epoch: 8/20... Step: 1090... Loss: 1.4630... Val Loss: 1.4765\n",
      "Epoch: 8/20... Step: 1100... Loss: 1.4673... Val Loss: 1.4731\n",
      "Epoch: 8/20... Step: 1110... Loss: 1.4618... Val Loss: 1.4712\n",
      "Epoch: 9/20... Step: 1120... Loss: 1.4801... Val Loss: 1.4727\n",
      "Epoch: 9/20... Step: 1130... Loss: 1.4795... Val Loss: 1.4655\n",
      "Epoch: 9/20... Step: 1140... Loss: 1.4742... Val Loss: 1.4603\n",
      "Epoch: 9/20... Step: 1150... Loss: 1.4841... Val Loss: 1.4634\n",
      "Epoch: 9/20... Step: 1160... Loss: 1.4398... Val Loss: 1.4554\n",
      "Epoch: 9/20... Step: 1170... Loss: 1.4476... Val Loss: 1.4556\n",
      "Epoch: 9/20... Step: 1180... Loss: 1.4486... Val Loss: 1.4529\n",
      "Epoch: 9/20... Step: 1190... Loss: 1.4754... Val Loss: 1.4522\n",
      "Epoch: 9/20... Step: 1200... Loss: 1.4278... Val Loss: 1.4493\n",
      "Epoch: 9/20... Step: 1210... Loss: 1.4387... Val Loss: 1.4450\n",
      "Epoch: 9/20... Step: 1220... Loss: 1.4382... Val Loss: 1.4427\n",
      "Epoch: 9/20... Step: 1230... Loss: 1.4154... Val Loss: 1.4442\n",
      "Epoch: 9/20... Step: 1240... Loss: 1.4204... Val Loss: 1.4373\n",
      "Epoch: 9/20... Step: 1250... Loss: 1.4321... Val Loss: 1.4362\n",
      "Epoch: 10/20... Step: 1260... Loss: 1.4336... Val Loss: 1.4369\n",
      "Epoch: 10/20... Step: 1270... Loss: 1.4292... Val Loss: 1.4373\n",
      "Epoch: 10/20... Step: 1280... Loss: 1.4366... Val Loss: 1.4286\n",
      "Epoch: 10/20... Step: 1290... Loss: 1.4320... Val Loss: 1.4320\n",
      "Epoch: 10/20... Step: 1300... Loss: 1.4118... Val Loss: 1.4283\n",
      "Epoch: 10/20... Step: 1310... Loss: 1.4302... Val Loss: 1.4260\n",
      "Epoch: 10/20... Step: 1320... Loss: 1.3967... Val Loss: 1.4258\n",
      "Epoch: 10/20... Step: 1330... Loss: 1.3953... Val Loss: 1.4205\n",
      "Epoch: 10/20... Step: 1340... Loss: 1.3935... Val Loss: 1.4204\n"
     ]
    },
    {
     "name": "stdout",
     "output_type": "stream",
     "text": [
      "Epoch: 10/20... Step: 1350... Loss: 1.3987... Val Loss: 1.4204\n",
      "Epoch: 10/20... Step: 1360... Loss: 1.3830... Val Loss: 1.4152\n",
      "Epoch: 10/20... Step: 1370... Loss: 1.3810... Val Loss: 1.4169\n",
      "Epoch: 10/20... Step: 1380... Loss: 1.4164... Val Loss: 1.4102\n",
      "Epoch: 10/20... Step: 1390... Loss: 1.4207... Val Loss: 1.4091\n",
      "Epoch: 11/20... Step: 1400... Loss: 1.4237... Val Loss: 1.4095\n",
      "Epoch: 11/20... Step: 1410... Loss: 1.4331... Val Loss: 1.4093\n",
      "Epoch: 11/20... Step: 1420... Loss: 1.4201... Val Loss: 1.4017\n",
      "Epoch: 11/20... Step: 1430... Loss: 1.3857... Val Loss: 1.4048\n",
      "Epoch: 11/20... Step: 1440... Loss: 1.4142... Val Loss: 1.4021\n",
      "Epoch: 11/20... Step: 1450... Loss: 1.3436... Val Loss: 1.4014\n",
      "Epoch: 11/20... Step: 1460... Loss: 1.3749... Val Loss: 1.3989\n",
      "Epoch: 11/20... Step: 1470... Loss: 1.3692... Val Loss: 1.3957\n",
      "Epoch: 11/20... Step: 1480... Loss: 1.3868... Val Loss: 1.3956\n",
      "Epoch: 11/20... Step: 1490... Loss: 1.3706... Val Loss: 1.3945\n",
      "Epoch: 11/20... Step: 1500... Loss: 1.3588... Val Loss: 1.3913\n",
      "Epoch: 11/20... Step: 1510... Loss: 1.3441... Val Loss: 1.3958\n",
      "Epoch: 11/20... Step: 1520... Loss: 1.3865... Val Loss: 1.3898\n",
      "Epoch: 12/20... Step: 1530... Loss: 1.4291... Val Loss: 1.3885\n",
      "Epoch: 12/20... Step: 1540... Loss: 1.3855... Val Loss: 1.3882\n",
      "Epoch: 12/20... Step: 1550... Loss: 1.3846... Val Loss: 1.3879\n",
      "Epoch: 12/20... Step: 1560... Loss: 1.4028... Val Loss: 1.3808\n",
      "Epoch: 12/20... Step: 1570... Loss: 1.3527... Val Loss: 1.3866\n",
      "Epoch: 12/20... Step: 1580... Loss: 1.3310... Val Loss: 1.3850\n",
      "Epoch: 12/20... Step: 1590... Loss: 1.3247... Val Loss: 1.3813\n",
      "Epoch: 12/20... Step: 1600... Loss: 1.3482... Val Loss: 1.3831\n",
      "Epoch: 12/20... Step: 1610... Loss: 1.3361... Val Loss: 1.3804\n",
      "Epoch: 12/20... Step: 1620... Loss: 1.3462... Val Loss: 1.3726\n",
      "Epoch: 12/20... Step: 1630... Loss: 1.3625... Val Loss: 1.3760\n",
      "Epoch: 12/20... Step: 1640... Loss: 1.3433... Val Loss: 1.3773\n",
      "Epoch: 12/20... Step: 1650... Loss: 1.3112... Val Loss: 1.3754\n",
      "Epoch: 12/20... Step: 1660... Loss: 1.3736... Val Loss: 1.3709\n",
      "Epoch: 13/20... Step: 1670... Loss: 1.3392... Val Loss: 1.3715\n",
      "Epoch: 13/20... Step: 1680... Loss: 1.3522... Val Loss: 1.3694\n",
      "Epoch: 13/20... Step: 1690... Loss: 1.3328... Val Loss: 1.3693\n",
      "Epoch: 13/20... Step: 1700... Loss: 1.3293... Val Loss: 1.3685\n",
      "Epoch: 13/20... Step: 1710... Loss: 1.3137... Val Loss: 1.3684\n",
      "Epoch: 13/20... Step: 1720... Loss: 1.3270... Val Loss: 1.3680\n",
      "Epoch: 13/20... Step: 1730... Loss: 1.3506... Val Loss: 1.3627\n",
      "Epoch: 13/20... Step: 1740... Loss: 1.3296... Val Loss: 1.3651\n",
      "Epoch: 13/20... Step: 1750... Loss: 1.2962... Val Loss: 1.3648\n",
      "Epoch: 13/20... Step: 1760... Loss: 1.3216... Val Loss: 1.3620\n",
      "Epoch: 13/20... Step: 1770... Loss: 1.3427... Val Loss: 1.3622\n",
      "Epoch: 13/20... Step: 1780... Loss: 1.3163... Val Loss: 1.3604\n",
      "Epoch: 13/20... Step: 1790... Loss: 1.3061... Val Loss: 1.3650\n",
      "Epoch: 13/20... Step: 1800... Loss: 1.3275... Val Loss: 1.3545\n",
      "Epoch: 14/20... Step: 1810... Loss: 1.3345... Val Loss: 1.3553\n",
      "Epoch: 14/20... Step: 1820... Loss: 1.3139... Val Loss: 1.3524\n",
      "Epoch: 14/20... Step: 1830... Loss: 1.3329... Val Loss: 1.3510\n",
      "Epoch: 14/20... Step: 1840... Loss: 1.2872... Val Loss: 1.3536\n",
      "Epoch: 14/20... Step: 1850... Loss: 1.2701... Val Loss: 1.3548\n",
      "Epoch: 14/20... Step: 1860... Loss: 1.3313... Val Loss: 1.3537\n",
      "Epoch: 14/20... Step: 1870... Loss: 1.3268... Val Loss: 1.3502\n",
      "Epoch: 14/20... Step: 1880... Loss: 1.3114... Val Loss: 1.3486\n",
      "Epoch: 14/20... Step: 1890... Loss: 1.3403... Val Loss: 1.3502\n",
      "Epoch: 14/20... Step: 1900... Loss: 1.3148... Val Loss: 1.3478\n",
      "Epoch: 14/20... Step: 1910... Loss: 1.3299... Val Loss: 1.3504\n",
      "Epoch: 14/20... Step: 1920... Loss: 1.3045... Val Loss: 1.3458\n",
      "Epoch: 14/20... Step: 1930... Loss: 1.2805... Val Loss: 1.3464\n",
      "Epoch: 14/20... Step: 1940... Loss: 1.3294... Val Loss: 1.3428\n",
      "Epoch: 15/20... Step: 1950... Loss: 1.3033... Val Loss: 1.3455\n",
      "Epoch: 15/20... Step: 1960... Loss: 1.3074... Val Loss: 1.3416\n",
      "Epoch: 15/20... Step: 1970... Loss: 1.2945... Val Loss: 1.3405\n",
      "Epoch: 15/20... Step: 1980... Loss: 1.2878... Val Loss: 1.3446\n",
      "Epoch: 15/20... Step: 1990... Loss: 1.2961... Val Loss: 1.3444\n",
      "Epoch: 15/20... Step: 2000... Loss: 1.2775... Val Loss: 1.3396\n",
      "Epoch: 15/20... Step: 2010... Loss: 1.3023... Val Loss: 1.3388\n",
      "Epoch: 15/20... Step: 2020... Loss: 1.3162... Val Loss: 1.3378\n",
      "Epoch: 15/20... Step: 2030... Loss: 1.2826... Val Loss: 1.3372\n",
      "Epoch: 15/20... Step: 2040... Loss: 1.2951... Val Loss: 1.3351\n",
      "Epoch: 15/20... Step: 2050... Loss: 1.2788... Val Loss: 1.3343\n",
      "Epoch: 15/20... Step: 2060... Loss: 1.2918... Val Loss: 1.3328\n",
      "Epoch: 15/20... Step: 2070... Loss: 1.3072... Val Loss: 1.3334\n",
      "Epoch: 15/20... Step: 2080... Loss: 1.2930... Val Loss: 1.3308\n",
      "Epoch: 16/20... Step: 2090... Loss: 1.2939... Val Loss: 1.3335\n",
      "Epoch: 16/20... Step: 2100... Loss: 1.2762... Val Loss: 1.3305\n",
      "Epoch: 16/20... Step: 2110... Loss: 1.2753... Val Loss: 1.3310\n",
      "Epoch: 16/20... Step: 2120... Loss: 1.2853... Val Loss: 1.3327\n",
      "Epoch: 16/20... Step: 2130... Loss: 1.2623... Val Loss: 1.3325\n",
      "Epoch: 16/20... Step: 2140... Loss: 1.2727... Val Loss: 1.3290\n",
      "Epoch: 16/20... Step: 2150... Loss: 1.3011... Val Loss: 1.3265\n",
      "Epoch: 16/20... Step: 2160... Loss: 1.2813... Val Loss: 1.3266\n",
      "Epoch: 16/20... Step: 2170... Loss: 1.2724... Val Loss: 1.3261\n",
      "Epoch: 16/20... Step: 2180... Loss: 1.2667... Val Loss: 1.3255\n",
      "Epoch: 16/20... Step: 2190... Loss: 1.2903... Val Loss: 1.3270\n",
      "Epoch: 16/20... Step: 2200... Loss: 1.2621... Val Loss: 1.3231\n",
      "Epoch: 16/20... Step: 2210... Loss: 1.2325... Val Loss: 1.3234\n",
      "Epoch: 16/20... Step: 2220... Loss: 1.2815... Val Loss: 1.3217\n",
      "Epoch: 17/20... Step: 2230... Loss: 1.2508... Val Loss: 1.3198\n",
      "Epoch: 17/20... Step: 2240... Loss: 1.2718... Val Loss: 1.3180\n",
      "Epoch: 17/20... Step: 2250... Loss: 1.2547... Val Loss: 1.3229\n",
      "Epoch: 17/20... Step: 2260... Loss: 1.2628... Val Loss: 1.3259\n",
      "Epoch: 17/20... Step: 2270... Loss: 1.2673... Val Loss: 1.3229\n",
      "Epoch: 17/20... Step: 2280... Loss: 1.2820... Val Loss: 1.3172\n",
      "Epoch: 17/20... Step: 2290... Loss: 1.2671... Val Loss: 1.3160\n",
      "Epoch: 17/20... Step: 2300... Loss: 1.2424... Val Loss: 1.3169\n",
      "Epoch: 17/20... Step: 2310... Loss: 1.2635... Val Loss: 1.3162\n",
      "Epoch: 17/20... Step: 2320... Loss: 1.2538... Val Loss: 1.3155\n",
      "Epoch: 17/20... Step: 2330... Loss: 1.2497... Val Loss: 1.3147\n",
      "Epoch: 17/20... Step: 2340... Loss: 1.2672... Val Loss: 1.3154\n",
      "Epoch: 17/20... Step: 2350... Loss: 1.2690... Val Loss: 1.3099\n",
      "Epoch: 17/20... Step: 2360... Loss: 1.2700... Val Loss: 1.3129\n",
      "Epoch: 18/20... Step: 2370... Loss: 1.2507... Val Loss: 1.3105\n",
      "Epoch: 18/20... Step: 2380... Loss: 1.2514... Val Loss: 1.3125\n",
      "Epoch: 18/20... Step: 2390... Loss: 1.2548... Val Loss: 1.3125\n",
      "Epoch: 18/20... Step: 2400... Loss: 1.2728... Val Loss: 1.3144\n",
      "Epoch: 18/20... Step: 2410... Loss: 1.2654... Val Loss: 1.3122\n",
      "Epoch: 18/20... Step: 2420... Loss: 1.2494... Val Loss: 1.3080\n",
      "Epoch: 18/20... Step: 2430... Loss: 1.2637... Val Loss: 1.3112\n",
      "Epoch: 18/20... Step: 2440... Loss: 1.2450... Val Loss: 1.3074\n",
      "Epoch: 18/20... Step: 2450... Loss: 1.2376... Val Loss: 1.3081\n",
      "Epoch: 18/20... Step: 2460... Loss: 1.2597... Val Loss: 1.3075\n",
      "Epoch: 18/20... Step: 2470... Loss: 1.2486... Val Loss: 1.3094\n",
      "Epoch: 18/20... Step: 2480... Loss: 1.2362... Val Loss: 1.3053\n",
      "Epoch: 18/20... Step: 2490... Loss: 1.2281... Val Loss: 1.2998\n",
      "Epoch: 18/20... Step: 2500... Loss: 1.2376... Val Loss: 1.3037\n",
      "Epoch: 19/20... Step: 2510... Loss: 1.2440... Val Loss: 1.3023\n",
      "Epoch: 19/20... Step: 2520... Loss: 1.2544... Val Loss: 1.3041\n",
      "Epoch: 19/20... Step: 2530... Loss: 1.2615... Val Loss: 1.3046\n",
      "Epoch: 19/20... Step: 2540... Loss: 1.2741... Val Loss: 1.3064\n",
      "Epoch: 19/20... Step: 2550... Loss: 1.2355... Val Loss: 1.3025\n",
      "Epoch: 19/20... Step: 2560... Loss: 1.2367... Val Loss: 1.2966\n",
      "Epoch: 19/20... Step: 2570... Loss: 1.2404... Val Loss: 1.3015\n",
      "Epoch: 19/20... Step: 2580... Loss: 1.2691... Val Loss: 1.2990\n",
      "Epoch: 19/20... Step: 2590... Loss: 1.2177... Val Loss: 1.2997\n",
      "Epoch: 19/20... Step: 2600... Loss: 1.2299... Val Loss: 1.2992\n",
      "Epoch: 19/20... Step: 2610... Loss: 1.2281... Val Loss: 1.3023\n",
      "Epoch: 19/20... Step: 2620... Loss: 1.2181... Val Loss: 1.2935\n",
      "Epoch: 19/20... Step: 2630... Loss: 1.2219... Val Loss: 1.2921\n",
      "Epoch: 19/20... Step: 2640... Loss: 1.2405... Val Loss: 1.2915\n",
      "Epoch: 20/20... Step: 2650... Loss: 1.2357... Val Loss: 1.2937\n"
     ]
    },
    {
     "name": "stdout",
     "output_type": "stream",
     "text": [
      "Epoch: 20/20... Step: 2660... Loss: 1.2471... Val Loss: 1.2999\n",
      "Epoch: 20/20... Step: 2670... Loss: 1.2403... Val Loss: 1.2980\n",
      "Epoch: 20/20... Step: 2680... Loss: 1.2454... Val Loss: 1.2963\n",
      "Epoch: 20/20... Step: 2690... Loss: 1.2275... Val Loss: 1.2943\n",
      "Epoch: 20/20... Step: 2700... Loss: 1.2404... Val Loss: 1.2921\n",
      "Epoch: 20/20... Step: 2710... Loss: 1.2112... Val Loss: 1.2925\n",
      "Epoch: 20/20... Step: 2720... Loss: 1.2096... Val Loss: 1.2896\n",
      "Epoch: 20/20... Step: 2730... Loss: 1.2032... Val Loss: 1.2885\n",
      "Epoch: 20/20... Step: 2740... Loss: 1.2023... Val Loss: 1.2867\n",
      "Epoch: 20/20... Step: 2750... Loss: 1.2059... Val Loss: 1.2944\n",
      "Epoch: 20/20... Step: 2760... Loss: 1.2047... Val Loss: 1.2869\n",
      "Epoch: 20/20... Step: 2770... Loss: 1.2457... Val Loss: 1.2828\n",
      "Epoch: 20/20... Step: 2780... Loss: 1.2623... Val Loss: 1.2843\n"
     ]
    }
   ],
   "source": [
    "batch_size = 128\n",
    "seq_length = 100\n",
    "n_epochs =  20 # start small if you are just testing initial behavior\n",
    "\n",
    "# train the model\n",
    "train(net, encoded, epochs=n_epochs, batch_size=batch_size, seq_length=seq_length, lr=0.001, print_every=10)"
   ]
  },
  {
   "cell_type": "markdown",
   "metadata": {},
   "source": [
    "## Getting the best model\n",
    "\n",
    "To set your hyperparameters to get the best performance, you'll want to watch the training and validation losses. If your training loss is much lower than the validation loss, you're overfitting. Increase regularization (more dropout) or use a smaller network. If the training and validation losses are close, you're underfitting so you can increase the size of the network."
   ]
  },
  {
   "cell_type": "markdown",
   "metadata": {},
   "source": [
    "## Hyperparameters\n",
    "\n",
    "Here are the hyperparameters for the network.\n",
    "\n",
    "In defining the model:\n",
    "* `n_hidden` - The number of units in the hidden layers.\n",
    "* `n_layers` - Number of hidden LSTM layers to use.\n",
    "\n",
    "We assume that dropout probability and learning rate will be kept at the default, in this example.\n",
    "\n",
    "And in training:\n",
    "* `batch_size` - Number of sequences running through the network in one pass.\n",
    "* `seq_length` - Number of characters in the sequence the network is trained on. Larger is better typically, the network will learn more long range dependencies. But it takes longer to train. 100 is typically a good number here.\n",
    "* `lr` - Learning rate for training\n",
    "\n",
    "Here's some good advice from Andrej Karpathy on training the network. I'm going to copy it in here for your benefit, but also link to [where it originally came from](https://github.com/karpathy/char-rnn#tips-and-tricks).\n",
    "\n",
    "> ## Tips and Tricks\n",
    "\n",
    ">### Monitoring Validation Loss vs. Training Loss\n",
    ">If you're somewhat new to Machine Learning or Neural Networks it can take a bit of expertise to get good models. The most important quantity to keep track of is the difference between your training loss (printed during training) and the validation loss (printed once in a while when the RNN is run on the validation data (by default every 1000 iterations)). In particular:\n",
    "\n",
    "> - If your training loss is much lower than validation loss then this means the network might be **overfitting**. Solutions to this are to decrease your network size, or to increase dropout. For example you could try dropout of 0.5 and so on.\n",
    "> - If your training/validation loss are about equal then your model is **underfitting**. Increase the size of your model (either number of layers or the raw number of neurons per layer)\n",
    "\n",
    "> ### Approximate number of parameters\n",
    "\n",
    "> The two most important parameters that control the model are `n_hidden` and `n_layers`. I would advise that you always use `n_layers` of either 2/3. The `n_hidden` can be adjusted based on how much data you have. The two important quantities to keep track of here are:\n",
    "\n",
    "> - The number of parameters in your model. This is printed when you start training.\n",
    "> - The size of your dataset. 1MB file is approximately 1 million characters.\n",
    "\n",
    ">These two should be about the same order of magnitude. It's a little tricky to tell. Here are some examples:\n",
    "\n",
    "> - I have a 100MB dataset and I'm using the default parameter settings (which currently print 150K parameters). My data size is significantly larger (100 mil >> 0.15 mil), so I expect to heavily underfit. I am thinking I can comfortably afford to make `n_hidden` larger.\n",
    "> - I have a 10MB dataset and running a 10 million parameter model. I'm slightly nervous and I'm carefully monitoring my validation loss. If it's larger than my training loss then I may want to try to increase dropout a bit and see if that helps the validation loss.\n",
    "\n",
    "> ### Best models strategy\n",
    "\n",
    ">The winning strategy to obtaining very good models (if you have the compute time) is to always err on making the network larger (as large as you're willing to wait for it to compute) and then try different dropout values (between 0,1). Whatever model has the best validation performance (the loss, written in the checkpoint filename, low is good) is the one you should use in the end.\n",
    "\n",
    ">It is very common in deep learning to run many different models with many different hyperparameter settings, and in the end take whatever checkpoint gave the best validation performance.\n",
    "\n",
    ">By the way, the size of your training and validation splits are also parameters. Make sure you have a decent amount of data in your validation set or otherwise the validation performance will be noisy and not very informative."
   ]
  },
  {
   "cell_type": "markdown",
   "metadata": {},
   "source": [
    "## Checkpoint\n",
    "\n",
    "After training, we'll save the model so we can load it again later if we need too. Here I'm saving the parameters needed to create the same architecture, the hidden layer hyperparameters and the text characters."
   ]
  },
  {
   "cell_type": "code",
   "execution_count": 29,
   "metadata": {},
   "outputs": [],
   "source": [
    "# change the name, for saving multiple files\n",
    "model_name = 'rnn_x_epoch.net'\n",
    "\n",
    "checkpoint = {'n_hidden': net.n_hidden,\n",
    "              'n_layers': net.n_layers,\n",
    "              'state_dict': net.state_dict(),\n",
    "              'tokens': net.chars}\n",
    "\n",
    "with open(model_name, 'wb') as f:\n",
    "    torch.save(checkpoint, f)"
   ]
  },
  {
   "cell_type": "markdown",
   "metadata": {},
   "source": [
    "---\n",
    "## Making Predictions\n",
    "\n",
    "Now that the model is trained, we'll want to sample from it and make predictions about next characters! To sample, we pass in a character and have the network predict the next character. Then we take that character, pass it back in, and get another predicted character. Just keep doing this and you'll generate a bunch of text!\n",
    "\n",
    "### A note on the `predict`  function\n",
    "\n",
    "The output of our RNN is from a fully-connected layer and it outputs a **distribution of next-character scores**.\n",
    "\n",
    "> To actually get the next character, we apply a softmax function, which gives us a *probability* distribution that we can then sample to predict the next character.\n",
    "\n",
    "### Top K sampling\n",
    "\n",
    "Our predictions come from a categorical probability distribution over all the possible characters. We can make the sample text and make it more reasonable to handle (with less variables) by only considering some $K$ most probable characters. This will prevent the network from giving us completely absurd characters while allowing it to introduce some noise and randomness into the sampled text. Read more about [topk, here](https://pytorch.org/docs/stable/torch.html#torch.topk).\n"
   ]
  },
  {
   "cell_type": "code",
   "execution_count": 30,
   "metadata": {},
   "outputs": [],
   "source": [
    "def predict(net, char, h=None, top_k=None):\n",
    "        ''' Given a character, predict the next character.\n",
    "            Returns the predicted character and the hidden state.\n",
    "        '''\n",
    "        \n",
    "        # tensor inputs\n",
    "        x = np.array([[net.char2int[char]]])\n",
    "        x = one_hot_encode(x, len(net.chars))\n",
    "        inputs = torch.from_numpy(x)\n",
    "        \n",
    "        if(train_on_gpu):\n",
    "            inputs = inputs.cuda()\n",
    "        \n",
    "        # detach hidden state from history\n",
    "        h = tuple([each.data for each in h])\n",
    "        # get the output of the model\n",
    "        out, h = net(inputs, h)\n",
    "\n",
    "        # get the character probabilities\n",
    "        p = F.softmax(out, dim=1).data\n",
    "        if(train_on_gpu):\n",
    "            p = p.cpu() # move to cpu\n",
    "        \n",
    "        # get top characters\n",
    "        if top_k is None:\n",
    "            top_ch = np.arange(len(net.chars))\n",
    "        else:\n",
    "            p, top_ch = p.topk(top_k)\n",
    "            top_ch = top_ch.numpy().squeeze()\n",
    "        \n",
    "        # select the likely next character with some element of randomness\n",
    "        p = p.numpy().squeeze()\n",
    "        char = np.random.choice(top_ch, p=p/p.sum())\n",
    "        \n",
    "        # return the encoded value of the predicted char and the hidden state\n",
    "        return net.int2char[char], h"
   ]
  },
  {
   "cell_type": "markdown",
   "metadata": {},
   "source": [
    "### Priming and generating text \n",
    "\n",
    "Typically you'll want to prime the network so you can build up a hidden state. Otherwise the network will start out generating characters at random. In general the first bunch of characters will be a little rough since it hasn't built up a long history of characters to predict from."
   ]
  },
  {
   "cell_type": "code",
   "execution_count": 31,
   "metadata": {},
   "outputs": [],
   "source": [
    "def sample(net, size, prime='The', top_k=None):\n",
    "        \n",
    "    if(train_on_gpu):\n",
    "        net.cuda()\n",
    "    else:\n",
    "        net.cpu()\n",
    "    \n",
    "    net.eval() # eval mode\n",
    "    \n",
    "    # First off, run through the prime characters\n",
    "    chars = [ch for ch in prime]\n",
    "    h = net.init_hidden(1)\n",
    "    for ch in prime:\n",
    "        char, h = predict(net, ch, h, top_k=top_k)\n",
    "\n",
    "    chars.append(char)\n",
    "    \n",
    "    # Now pass in the previous character and get a new one\n",
    "    for ii in range(size):\n",
    "        char, h = predict(net, chars[-1], h, top_k=top_k)\n",
    "        chars.append(char)\n",
    "\n",
    "    return ''.join(chars)"
   ]
  },
  {
   "cell_type": "code",
   "execution_count": 32,
   "metadata": {},
   "outputs": [
    {
     "name": "stdout",
     "output_type": "stream",
     "text": [
      "Anna had\n",
      "answered and\n",
      "at the standing of all the canding secret. He felt that he had taken in\n",
      "the party of anything in the first marmial\n",
      "personal feeling of a complexe time in the same time all these pate over off through his\n",
      "steps or the strange side as he cared to her his footis.\n",
      "\n",
      "\"Why see in your freedom?\" said Stepan Arkadyevitch,\n",
      "and she wished, and all those who took it a such and the still she had been decided. And he had so much feeling that his\n",
      "charge housedoe was all as the\n",
      "people of the distress in his hands with the same service; a confirmation\n",
      "is,\n",
      "sitting himself to the pacies of the master of her, he could not be, and that it was in the pasing attone\n",
      "they said about him, sometimes she was not an instant is the\n",
      "carriage to\n",
      "be as he felt at once said,\n",
      "to think of the peasants was not in his senses of the\n",
      "contrary, and all these world they were not a long and any seemed to him to her hand,\n",
      "went on. The confiden of the province had been atraided to the man\n",
      "at that man had supporte\n"
     ]
    }
   ],
   "source": [
    "print(sample(net, 1000, prime='Anna', top_k=5))"
   ]
  },
  {
   "cell_type": "markdown",
   "metadata": {},
   "source": [
    "## Loading a checkpoint"
   ]
  },
  {
   "cell_type": "code",
   "execution_count": 33,
   "metadata": {},
   "outputs": [
    {
     "data": {
      "text/plain": [
       "<All keys matched successfully>"
      ]
     },
     "execution_count": 33,
     "metadata": {},
     "output_type": "execute_result"
    }
   ],
   "source": [
    "# Here we have loaded in a model that trained over 20 epochs `rnn_20_epoch.net`\n",
    "with open('rnn_x_epoch.net', 'rb') as f:\n",
    "    checkpoint = torch.load(f)\n",
    "    \n",
    "loaded = CharRNN(checkpoint['tokens'], n_hidden=checkpoint['n_hidden'], n_layers=checkpoint['n_layers'])\n",
    "loaded.load_state_dict(checkpoint['state_dict'])"
   ]
  },
  {
   "cell_type": "code",
   "execution_count": 34,
   "metadata": {},
   "outputs": [
    {
     "name": "stdout",
     "output_type": "stream",
     "text": [
      "And Levin said with a councels\n",
      "since she had supposed him.\n",
      "\n",
      "\"I don't know!\" said Stepan Arkadyevitch's saying.\n",
      "\n",
      "Those who came all still at the minutes he could not be, and was the same disapprainting to the same thing in\n",
      "a counsion and stays of the coling of his clets.\n",
      "\n",
      "\"Well, and that is the same stalling I am all the same that it was\n",
      "something so an impression was in a subject,\" he said, and the creating\n",
      "consistication with something sawisfelling the stuny.\n",
      "\n",
      "\"It's always an eager seemed, as that I am a particularly commusic, and I do nothing to be\n",
      "sensating,\" said the carriage, whom will say to his sight, and to the\n",
      "doctor, without changed in the country, and staying to the parint that\n",
      "she did all abous the care of the carriage and a feeling of\n",
      "this chammanch, where the pain, and the coull never be still at the stairs. The marshal can be\n",
      "a girl of, and had troubled him as all the parisure of this\n",
      "passion in a bourd that was in her son. Then\n",
      "he came to his soft his hands, and the more always and stick of the forest had\n",
      "spent his brother--at the still sons of his case and and his\n",
      "wearing whone and worked that it was that such a long\n",
      "shade were not the simple shorts and sound of his wife.\n",
      "\n",
      "\"You say to you. What is all?\" he thought. \"Why is your honor. Then there's no death,\n",
      "which so marriage is its feeling in her extraordinary,\" the marshal sanked her, and he had not all the\n",
      "position of the morning. He felt in his hands to take his hands of the\n",
      "sunding, that they were not it to bring\n",
      "the same time. She drove off with the music. Something was a steps of to she was the princess\n",
      "that the same sort of clearly taking her sounds. He fancied the cramming suddenly standing towards a crest\n",
      "and to the profrems and her friends, talking tiridly to\n",
      "her father's face and would be felt all the same figure, and as he went to all the\n",
      "country. And she was the money of treating over\n",
      "this interests.\n",
      "\n",
      "\"I don't know you when you say,\" said Stepan Arkadyevitch. \"What do I can't be so much all the\n",
      "countr\n"
     ]
    }
   ],
   "source": [
    "# Sample using a loaded model\n",
    "print(sample(loaded, 2000, top_k=5, prime=\"And Levin said\"))"
   ]
  },
  {
   "cell_type": "code",
   "execution_count": null,
   "metadata": {
    "collapsed": true
   },
   "outputs": [],
   "source": []
  }
 ],
 "metadata": {
  "kernelspec": {
   "display_name": "Python 3",
   "language": "python",
   "name": "python3"
  },
  "language_info": {
   "codemirror_mode": {
    "name": "ipython",
    "version": 3
   },
   "file_extension": ".py",
   "mimetype": "text/x-python",
   "name": "python",
   "nbconvert_exporter": "python",
   "pygments_lexer": "ipython3",
   "version": "3.7.7"
  }
 },
 "nbformat": 4,
 "nbformat_minor": 2
}
